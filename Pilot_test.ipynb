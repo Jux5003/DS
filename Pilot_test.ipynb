{
 "cells": [
  {
   "cell_type": "code",
   "execution_count": 1,
   "id": "0fc2d681-b8b7-4f45-88a8-67fee9c20251",
   "metadata": {
    "tags": []
   },
   "outputs": [],
   "source": [
    "import pandas as pd"
   ]
  },
  {
   "cell_type": "code",
   "execution_count": 1,
   "id": "d957c63b-15ef-441f-9bee-0fd996536f54",
   "metadata": {
    "collapsed": true,
    "jupyter": {
     "outputs_hidden": true
    },
    "tags": []
   },
   "outputs": [
    {
     "ename": "NameError",
     "evalue": "name 'pd' is not defined",
     "output_type": "error",
     "traceback": [
      "\u001b[1;31m---------------------------------------------------------------------------\u001b[0m",
      "\u001b[1;31mNameError\u001b[0m                                 Traceback (most recent call last)",
      "Cell \u001b[1;32mIn[1], line 1\u001b[0m\n\u001b[1;32m----> 1\u001b[0m df \u001b[38;5;241m=\u001b[39m \u001b[43mpd\u001b[49m\u001b[38;5;241m.\u001b[39mread_excel(\u001b[38;5;124m\"\u001b[39m\u001b[38;5;124mexport.xlsx\u001b[39m\u001b[38;5;124m\"\u001b[39m)\n\u001b[0;32m      2\u001b[0m df\n",
      "\u001b[1;31mNameError\u001b[0m: name 'pd' is not defined"
     ]
    }
   ],
   "source": [
    "df = pd.read_excel(\"export.xlsx\")\n",
    "df"
   ]
  },
  {
   "cell_type": "code",
   "execution_count": 2,
   "id": "a9a8bfd5-b7ab-40bc-b4ad-add75587494a",
   "metadata": {
    "collapsed": true,
    "jupyter": {
     "outputs_hidden": true
    },
    "tags": []
   },
   "outputs": [
    {
     "ename": "NameError",
     "evalue": "name 'df' is not defined",
     "output_type": "error",
     "traceback": [
      "\u001b[1;31m---------------------------------------------------------------------------\u001b[0m",
      "\u001b[1;31mNameError\u001b[0m                                 Traceback (most recent call last)",
      "Cell \u001b[1;32mIn[2], line 1\u001b[0m\n\u001b[1;32m----> 1\u001b[0m \u001b[43mdf\u001b[49m\u001b[38;5;241m.\u001b[39minfo()    \u001b[38;5;66;03m#각 column 별 정보 확인\u001b[39;00m\n\u001b[0;32m      2\u001b[0m df\u001b[38;5;241m.\u001b[39mshape     \u001b[38;5;66;03m#행열 구조 파악\u001b[39;00m\n",
      "\u001b[1;31mNameError\u001b[0m: name 'df' is not defined"
     ]
    }
   ],
   "source": [
    "df.info()    #각 column 별 정보 확인\n",
    "df.shape     #행열 구조 파악"
   ]
  },
  {
   "cell_type": "markdown",
   "id": "4fef8c13-d4e3-4df5-a5de-028b2639e602",
   "metadata": {
    "tags": []
   },
   "source": [
    "- test 정보 먼저 취득, 이후 데이터와 무관한 행/열은 삭제"
   ]
  },
  {
   "cell_type": "code",
   "execution_count": 3,
   "id": "fb52be40-a53d-4dd3-86b2-217654e9fb82",
   "metadata": {
    "collapsed": true,
    "jupyter": {
     "outputs_hidden": true
    },
    "tags": []
   },
   "outputs": [
    {
     "ename": "NameError",
     "evalue": "name 'df' is not defined",
     "output_type": "error",
     "traceback": [
      "\u001b[1;31m---------------------------------------------------------------------------\u001b[0m",
      "\u001b[1;31mNameError\u001b[0m                                 Traceback (most recent call last)",
      "Cell \u001b[1;32mIn[3], line 2\u001b[0m\n\u001b[0;32m      1\u001b[0m test_info\u001b[38;5;241m=\u001b[39m[]\n\u001b[1;32m----> 2\u001b[0m test_info\u001b[38;5;241m.\u001b[39mappend(\u001b[43mdf\u001b[49m[\u001b[38;5;124m\"\u001b[39m\u001b[38;5;124mUnnamed: 4\u001b[39m\u001b[38;5;124m\"\u001b[39m][\u001b[38;5;241m0\u001b[39m]) \u001b[38;5;66;03m#PJT code\u001b[39;00m\n\u001b[0;32m      3\u001b[0m test_info\u001b[38;5;241m.\u001b[39mappend(df[\u001b[38;5;124m\"\u001b[39m\u001b[38;5;124mUnnamed: 2\u001b[39m\u001b[38;5;124m\"\u001b[39m][\u001b[38;5;241m2\u001b[39m]) \u001b[38;5;66;03m#소속\u001b[39;00m\n\u001b[0;32m      4\u001b[0m test_info\u001b[38;5;241m.\u001b[39mappend(df[\u001b[38;5;124m\"\u001b[39m\u001b[38;5;124mUnnamed: 4\u001b[39m\u001b[38;5;124m\"\u001b[39m][\u001b[38;5;241m3\u001b[39m]) \u001b[38;5;66;03m#P/L\u001b[39;00m\n",
      "\u001b[1;31mNameError\u001b[0m: name 'df' is not defined"
     ]
    }
   ],
   "source": [
    "test_info=[]\n",
    "test_info.append(df[\"Unnamed: 4\"][0]) #PJT code\n",
    "test_info.append(df[\"Unnamed: 2\"][2]) #소속\n",
    "test_info.append(df[\"Unnamed: 4\"][3]) #P/L\n",
    "test_info.append(df[\"Unnamed: 4\"][4]) #연구원\n",
    "test_info.append(df[\"Unnamed: 4\"][len(df)-7]) #주의사항 (마지막에서 7번째 줄 ∵ 처방원료/평가 항목이 달라지면 행 수가 바뀌므로, 앞순번은 의미x)\n",
    "test_info.append(df[\"Unnamed: 4\"][len(df)-1]) #작업요청일 (마지막 줄)\n",
    "test_info"
   ]
  },
  {
   "cell_type": "markdown",
   "id": "86901b93-4b9b-4136-9a03-a066c5bed5a1",
   "metadata": {},
   "source": [
    "- 처방전 및 특성평가 항목을 제외한 NaN 행/열 삭제"
   ]
  },
  {
   "cell_type": "code",
   "execution_count": 4,
   "id": "4751e8b2-84fc-4d81-990a-024f4b9309fd",
   "metadata": {
    "collapsed": true,
    "jupyter": {
     "outputs_hidden": true
    },
    "tags": []
   },
   "outputs": [
    {
     "ename": "NameError",
     "evalue": "name 'df' is not defined",
     "output_type": "error",
     "traceback": [
      "\u001b[1;31m---------------------------------------------------------------------------\u001b[0m",
      "\u001b[1;31mNameError\u001b[0m                                 Traceback (most recent call last)",
      "Cell \u001b[1;32mIn[4], line 1\u001b[0m\n\u001b[1;32m----> 1\u001b[0m df2\u001b[38;5;241m=\u001b[39m\u001b[43mdf\u001b[49m[df[\u001b[38;5;124m\"\u001b[39m\u001b[38;5;124mUnnamed: 4\u001b[39m\u001b[38;5;124m\"\u001b[39m]\u001b[38;5;241m.\u001b[39misnull()\u001b[38;5;241m==\u001b[39m\u001b[38;5;28;01mFalse\u001b[39;00m]                    \u001b[38;5;66;03m## 5번째 열 기준으로 값이 NaN 인 행을 삭제 1\u001b[39;00m\n\u001b[0;32m      2\u001b[0m df2\u001b[38;5;241m.\u001b[39mdrop([\u001b[38;5;241m0\u001b[39m,\u001b[38;5;241m3\u001b[39m,\u001b[38;5;241m4\u001b[39m,df2\u001b[38;5;241m.\u001b[39mindex[\u001b[38;5;241m-\u001b[39m\u001b[38;5;241m1\u001b[39m],df2\u001b[38;5;241m.\u001b[39mindex[\u001b[38;5;241m-\u001b[39m\u001b[38;5;241m2\u001b[39m]],inplace\u001b[38;5;241m=\u001b[39m\u001b[38;5;28;01mTrue\u001b[39;00m)  \u001b[38;5;66;03m## 값이 있지만 필요없는 행 5개를 삭제 2 ## 단 특성평가 제목줄도 함께 사라졌으므로, DataFrame 생성 시 column 을 별도로 만들어줘야 함\u001b[39;00m\n\u001b[0;32m      3\u001b[0m df2\n",
      "\u001b[1;31mNameError\u001b[0m: name 'df' is not defined"
     ]
    }
   ],
   "source": [
    "df2=df[df[\"Unnamed: 4\"].isnull()==False]                    ## 5번째 열 기준으로 값이 NaN 인 행을 삭제 1\n",
    "df2.drop([0,3,4,df2.index[-1],df2.index[-2]],inplace=True)  ## 값이 있지만 필요없는 행 5개를 삭제 2 ## 단 특성평가 제목줄도 함께 사라졌으므로, DataFrame 생성 시 column 을 별도로 만들어줘야 함\n",
    "df2"
   ]
  },
  {
   "cell_type": "code",
   "execution_count": 13,
   "id": "d493be9d-6d67-4d61-bcb8-6009378dd8c0",
   "metadata": {
    "collapsed": true,
    "jupyter": {
     "outputs_hidden": true
    },
    "tags": []
   },
   "outputs": [
    {
     "ename": "NameError",
     "evalue": "name 'df2' is not defined",
     "output_type": "error",
     "traceback": [
      "\u001b[1;31m---------------------------------------------------------------------------\u001b[0m",
      "\u001b[1;31mNameError\u001b[0m                                 Traceback (most recent call last)",
      "Cell \u001b[1;32mIn[13], line 1\u001b[0m\n\u001b[1;32m----> 1\u001b[0m \u001b[43mdf2\u001b[49m\u001b[38;5;241m.\u001b[39minfo() \u001b[38;5;66;03m## non-null 값을 확인하여 null 값이 가득한 열을 삭제, ## 항상 sheet 당 8개 샘플을 평가하는 것이 아닌 것을 고려해야 함\u001b[39;00m\n",
      "\u001b[1;31mNameError\u001b[0m: name 'df2' is not defined"
     ]
    }
   ],
   "source": [
    "df2.info() ## non-null 값을 확인하여 null 값이 가득한 열을 삭제, ## 항상 sheet 당 8개 샘플을 평가하는 것이 아닌 것을 고려해야 함"
   ]
  },
  {
   "cell_type": "code",
   "execution_count": 129,
   "id": "819ae417-2a7c-45c6-aa88-44bd96f336a0",
   "metadata": {},
   "outputs": [],
   "source": [
    "df3 = df2.dropna(axis=1, how='all') ## how='all' 모두 Na 인 열만 선택적으로 삭제"
   ]
  },
  {
   "cell_type": "code",
   "execution_count": 6,
   "id": "40e6fda5-9753-4917-8811-bf2e2e7c69d8",
   "metadata": {
    "collapsed": true,
    "jupyter": {
     "outputs_hidden": true
    },
    "tags": []
   },
   "outputs": [
    {
     "ename": "NameError",
     "evalue": "name 'df3' is not defined",
     "output_type": "error",
     "traceback": [
      "\u001b[1;31m---------------------------------------------------------------------------\u001b[0m",
      "\u001b[1;31mNameError\u001b[0m                                 Traceback (most recent call last)",
      "Cell \u001b[1;32mIn[6], line 1\u001b[0m\n\u001b[1;32m----> 1\u001b[0m \u001b[43mdf3\u001b[49m\u001b[38;5;241m.\u001b[39minfo()\n",
      "\u001b[1;31mNameError\u001b[0m: name 'df3' is not defined"
     ]
    }
   ],
   "source": [
    "df3.info()"
   ]
  },
  {
   "cell_type": "code",
   "execution_count": 7,
   "id": "228d6439-65e7-4f62-b51d-4a5e3fc614c4",
   "metadata": {
    "collapsed": true,
    "jupyter": {
     "outputs_hidden": true
    },
    "tags": []
   },
   "outputs": [
    {
     "ename": "NameError",
     "evalue": "name 'df3' is not defined",
     "output_type": "error",
     "traceback": [
      "\u001b[1;31m---------------------------------------------------------------------------\u001b[0m",
      "\u001b[1;31mNameError\u001b[0m                                 Traceback (most recent call last)",
      "Cell \u001b[1;32mIn[7], line 1\u001b[0m\n\u001b[1;32m----> 1\u001b[0m df3\u001b[38;5;241m.\u001b[39mcolumns\u001b[38;5;241m=\u001b[39m\u001b[43mdf3\u001b[49m\u001b[38;5;241m.\u001b[39miloc[\u001b[38;5;241m0\u001b[39m]\u001b[38;5;241m.\u001b[39mto_list() \u001b[38;5;66;03m## 맨 위에 있던 행을 column 명으로 설정\u001b[39;00m\n\u001b[0;32m      2\u001b[0m df3\u001b[38;5;241m.\u001b[39mdrop([\u001b[38;5;241m6\u001b[39m], inplace\u001b[38;5;241m=\u001b[39m\u001b[38;5;28;01mTrue\u001b[39;00m)       \u001b[38;5;66;03m## 맨 위에 있던 행(index=6)은 삭제\u001b[39;00m\n",
      "\u001b[1;31mNameError\u001b[0m: name 'df3' is not defined"
     ]
    }
   ],
   "source": [
    "df3.columns=df3.iloc[0].to_list() ## 맨 위에 있던 행을 column 명으로 설정\n",
    "df3.drop([6], inplace=True)       ## 맨 위에 있던 행(index=6)은 삭제"
   ]
  },
  {
   "cell_type": "code",
   "execution_count": 8,
   "id": "0c86a74b-1445-41b0-93f0-16b57908558e",
   "metadata": {
    "collapsed": true,
    "jupyter": {
     "outputs_hidden": true
    },
    "tags": []
   },
   "outputs": [
    {
     "ename": "NameError",
     "evalue": "name 'df3' is not defined",
     "output_type": "error",
     "traceback": [
      "\u001b[1;31m---------------------------------------------------------------------------\u001b[0m",
      "\u001b[1;31mNameError\u001b[0m                                 Traceback (most recent call last)",
      "Cell \u001b[1;32mIn[8], line 1\u001b[0m\n\u001b[1;32m----> 1\u001b[0m \u001b[43mdf3\u001b[49m\n",
      "\u001b[1;31mNameError\u001b[0m: name 'df3' is not defined"
     ]
    }
   ],
   "source": [
    "df3"
   ]
  },
  {
   "cell_type": "markdown",
   "id": "4448b7ba-1611-4fa7-b0d7-06352c035eb8",
   "metadata": {},
   "source": [
    "- 처방전 및 특성평가 항목을 각각 분리하여 DataFrame으로 생성"
   ]
  },
  {
   "cell_type": "code",
   "execution_count": 9,
   "id": "f4a4b53e-b1d7-49a4-8cee-13bc75815d8d",
   "metadata": {
    "collapsed": true,
    "jupyter": {
     "outputs_hidden": true
    },
    "tags": []
   },
   "outputs": [
    {
     "ename": "NameError",
     "evalue": "name 'df3' is not defined",
     "output_type": "error",
     "traceback": [
      "\u001b[1;31m---------------------------------------------------------------------------\u001b[0m",
      "\u001b[1;31mNameError\u001b[0m                                 Traceback (most recent call last)",
      "Cell \u001b[1;32mIn[9], line 3\u001b[0m\n\u001b[0;32m      1\u001b[0m \u001b[38;5;66;03m## 처방전과 특성평가를 나눠서 각각 DataFrame으로 생성해야 함, 구분은 index 번호가 연속되는 숫자\u001b[39;00m\n\u001b[1;32m----> 3\u001b[0m df_list\u001b[38;5;241m=\u001b[39m\u001b[43mdf3\u001b[49m\u001b[38;5;241m.\u001b[39mindex\u001b[38;5;241m.\u001b[39mto_list()           \u001b[38;5;66;03m## 우선 index 번호를 리스트로 변환\u001b[39;00m\n\u001b[0;32m      4\u001b[0m \u001b[38;5;28;01mfor\u001b[39;00m i \u001b[38;5;129;01min\u001b[39;00m df_list:\n\u001b[0;32m      5\u001b[0m     \u001b[38;5;28;01mif\u001b[39;00m df_list[i]\u001b[38;5;241m+\u001b[39m\u001b[38;5;241m1\u001b[39m \u001b[38;5;129;01min\u001b[39;00m df_list:       \u001b[38;5;66;03m## 연속된 번호가 끊어지는 마지막 숫자가 df_list_split 에 저장되며, 이 번호의 index를 기준으로 두개의 DataFrame을 생성할 것임\u001b[39;00m\n",
      "\u001b[1;31mNameError\u001b[0m: name 'df3' is not defined"
     ]
    }
   ],
   "source": [
    "## 처방전과 특성평가를 나눠서 각각 DataFrame으로 생성해야 함, 구분은 index 번호가 연속되는 숫자\n",
    "\n",
    "df_list=df3.index.to_list()           ## 우선 index 번호를 리스트로 변환\n",
    "for i in df_list:\n",
    "    if df_list[i]+1 in df_list:       ## 연속된 번호가 끊어지는 마지막 숫자가 df_list_split 에 저장되며, 이 번호의 index를 기준으로 두개의 DataFrame을 생성할 것임\n",
    "        pass\n",
    "    else:\n",
    "        df_list_split=df_list[i]      \n",
    "        break       "
   ]
  },
  {
   "cell_type": "code",
   "execution_count": 10,
   "id": "42482797-afe1-4943-8528-c5444877fd07",
   "metadata": {
    "collapsed": true,
    "jupyter": {
     "outputs_hidden": true
    },
    "tags": []
   },
   "outputs": [
    {
     "ename": "NameError",
     "evalue": "name 'df3' is not defined",
     "output_type": "error",
     "traceback": [
      "\u001b[1;31m---------------------------------------------------------------------------\u001b[0m",
      "\u001b[1;31mNameError\u001b[0m                                 Traceback (most recent call last)",
      "Cell \u001b[1;32mIn[10], line 1\u001b[0m\n\u001b[1;32m----> 1\u001b[0m df_recipe \u001b[38;5;241m=\u001b[39m \u001b[43mdf3\u001b[49m\u001b[38;5;241m.\u001b[39mloc[:df_list_split,:]          \u001b[38;5;66;03m##loc는 index 번호를 기준, iloc로 하면 행의 갯수를 기준\u001b[39;00m\n\u001b[0;32m      2\u001b[0m df_test \u001b[38;5;241m=\u001b[39m df3\u001b[38;5;241m.\u001b[39mloc[df_list_split:,:]          \u001b[38;5;66;03m## 이경우 df6의 첫번째 행이 처방전의 마지막행이 되므로 삭제해줘야 함\u001b[39;00m\n\u001b[0;32m      3\u001b[0m df_test\u001b[38;5;241m.\u001b[39mdrop([df_list_split], inplace\u001b[38;5;241m=\u001b[39m\u001b[38;5;28;01mTrue\u001b[39;00m)\n",
      "\u001b[1;31mNameError\u001b[0m: name 'df3' is not defined"
     ]
    }
   ],
   "source": [
    "df_recipe = df3.loc[:df_list_split,:]          ##loc는 index 번호를 기준, iloc로 하면 행의 갯수를 기준\n",
    "df_test = df3.loc[df_list_split:,:]          ## 이경우 df6의 첫번째 행이 처방전의 마지막행이 되므로 삭제해줘야 함\n",
    "df_test.drop([df_list_split], inplace=True)\n",
    "df_test.rename(columns={'자재코드':'특성시험1', '자재명':'특성시험2', '제조사명':'시험조건', '단가 (₩)':'요구값'},inplace=True)"
   ]
  },
  {
   "cell_type": "code",
   "execution_count": 11,
   "id": "4ef857d4-63be-4494-a30a-3b984cb5cf90",
   "metadata": {
    "collapsed": true,
    "jupyter": {
     "outputs_hidden": true
    },
    "tags": []
   },
   "outputs": [
    {
     "ename": "NameError",
     "evalue": "name 'df_recipe' is not defined",
     "output_type": "error",
     "traceback": [
      "\u001b[1;31m---------------------------------------------------------------------------\u001b[0m",
      "\u001b[1;31mNameError\u001b[0m                                 Traceback (most recent call last)",
      "Cell \u001b[1;32mIn[11], line 1\u001b[0m\n\u001b[1;32m----> 1\u001b[0m \u001b[43mdf_recipe\u001b[49m\n",
      "\u001b[1;31mNameError\u001b[0m: name 'df_recipe' is not defined"
     ]
    }
   ],
   "source": [
    "df_recipe"
   ]
  },
  {
   "cell_type": "code",
   "execution_count": 12,
   "id": "29fcbea1-e60a-4bdb-b594-7aff3523a08c",
   "metadata": {
    "collapsed": true,
    "jupyter": {
     "outputs_hidden": true
    },
    "tags": []
   },
   "outputs": [
    {
     "ename": "NameError",
     "evalue": "name 'df_test' is not defined",
     "output_type": "error",
     "traceback": [
      "\u001b[1;31m---------------------------------------------------------------------------\u001b[0m",
      "\u001b[1;31mNameError\u001b[0m                                 Traceback (most recent call last)",
      "Cell \u001b[1;32mIn[12], line 1\u001b[0m\n\u001b[1;32m----> 1\u001b[0m \u001b[43mdf_test\u001b[49m\n",
      "\u001b[1;31mNameError\u001b[0m: name 'df_test' is not defined"
     ]
    }
   ],
   "source": [
    "df_test"
   ]
  },
  {
   "cell_type": "code",
   "execution_count": null,
   "id": "eee79aa3-ab1a-4825-9a6f-967f2946ef2f",
   "metadata": {},
   "outputs": [],
   "source": []
  }
 ],
 "metadata": {
  "kernelspec": {
   "display_name": "Python [conda env:ls_env]",
   "language": "python",
   "name": "conda-env-ls_env-py"
  },
  "language_info": {
   "codemirror_mode": {
    "name": "ipython",
    "version": 3
   },
   "file_extension": ".py",
   "mimetype": "text/x-python",
   "name": "python",
   "nbconvert_exporter": "python",
   "pygments_lexer": "ipython3",
   "version": "3.10.8"
  }
 },
 "nbformat": 4,
 "nbformat_minor": 5
}
