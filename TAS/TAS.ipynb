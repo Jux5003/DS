{
 "cells": [
  {
   "cell_type": "markdown",
   "id": "9d97f089-bfc4-400f-b698-4d7bd28c7b1c",
   "metadata": {
    "tags": []
   },
   "source": [
    "## import"
   ]
  },
  {
   "cell_type": "code",
   "execution_count": 9,
   "id": "6b55a358-b1ad-401c-ab1f-de80d6623679",
   "metadata": {},
   "outputs": [],
   "source": [
    "## ls_env 가상환경에서 실행\n",
    "\n",
    "import os\n",
    "import time                              ## 작업 시 소요시간을 체크하기 위함 (본 구문에 start, end 로 계산)\n",
    "import pandas as pd\n",
    "\n",
    "path1= \"./TAS-wrong\"                           ## 파일들이 담겨있는 folder 주소\n",
    "list_1 = os.listdir(path1)               ## 해당 폴더의 파일목록을 list_1에 입력"
   ]
  },
  {
   "cell_type": "code",
   "execution_count": 3,
   "id": "de6302be-9508-49ff-a4f4-74f52cc667e2",
   "metadata": {},
   "outputs": [],
   "source": [
    "## 혹시 파일이 폴더별로 구분되면 좀 귀찮아지기는 할 것임. 그때는 HIE 소스 활용"
   ]
  },
  {
   "cell_type": "code",
   "execution_count": 4,
   "id": "5f912779-6e55-48d7-90ad-e1265e7cf2f8",
   "metadata": {},
   "outputs": [],
   "source": [
    "## 아래 분석 case 별로 양식이 다르기 때문에 별도로 내용을 추출하기 위한 구문이 필요\n",
    "## 기본적으로 뽑아내야 하는 열의 제목을 txt에서 위치를 확인한 뒤 거기부터 몇줄 뒤 몇번째 칸 이런 형태를 뽑아내게 되어 있음"
   ]
  },
  {
   "cell_type": "markdown",
   "id": "8656c3f0-48ab-48c5-8055-51d966e8fde6",
   "metadata": {
    "tags": []
   },
   "source": [
    "## 종합분석 case (T, P)\n",
    "* T code: 종합분석\n",
    "* P code: 전력실험실 전용분석"
   ]
  },
  {
   "cell_type": "code",
   "execution_count": 2,
   "id": "50ea669d-b860-4dab-96ad-b16449bc72e6",
   "metadata": {
    "tags": []
   },
   "outputs": [],
   "source": [
    "def tas_t(line):\n",
    "    test=[]\n",
    "    for l in range(580,len(line)):\n",
    "        if \"담당자<\" in line[l]:\n",
    "            test.append(line[l+2][1:-1])\n",
    "        if \"의뢰번호<\" in line[l]:\n",
    "            test.append(line[l+1][20:30]) \n",
    "        if \"성명<\" in line[l]:\n",
    "            test.append(line[l+1][32:-6])             ## 사람 이름이 세글자가 아닌경우 고려\n",
    "        if \"제목<\" in line[l]:\n",
    "            test.append(line[l+1][32:-6])\n",
    "        if \"의뢰일<\" in line[l]:\n",
    "            test.append(line[l+1][20:-6])\n",
    "        if \"접수일<\" in line[l]:\n",
    "            test.append(line[l+1][20:-6])\n",
    "        if \"처리일<\" in line[l]:\n",
    "            test.append(line[l+1][20:-6])\n",
    "        if \"STATUS<\" in line[l]:\n",
    "            test.append(line[l+1][32:-6])            ### 진행중인 경우 STATUS 안나옴!!!\n",
    "        if \"의뢰목적<\" in line[l]:\n",
    "            test.append(line[l+1][32:-6])\n",
    "        if \"의뢰유형<\" in line[l]:            \n",
    "            test.append(line[l+8][9:-1])\n",
    "        if \"제조사<\" in line[l]:\n",
    "            test.append(line[l+1][22:-1])\n",
    "        if \"Comments<\" in line[l]:                       ### 여러줄로 되어 있는 comments 임 (</td> 가 나올때까지 여러줄을 모두 comment에 저장)\n",
    "            comments=\"\"\n",
    "            for j in range(20):\n",
    "                if \"</TD>\" in line[l+j+1]:\n",
    "                    break\n",
    "                else:\n",
    "                    if j==0:\n",
    "                        comments=(line[l+1][22:-1])                    \n",
    "                    else:\n",
    "                        comments=comments+\"<br>\"+line[l+j+1][:-1]\n",
    "            test.append(comments)\n",
    "        if \"KeyWord<\" in line[l]:\n",
    "            test.append(line[l+1][32:-6])\n",
    "        if \"분석조건<\" in line[l]:\n",
    "            test.append(line[l+1][32:-6])                     ## 두번째 값을 취해야 함.\n",
    "        if \"분석의견<\" in line[l]:\n",
    "            test.append(line[l+1][33:-6])                                ## 세번째 값을 취해야 함.\n",
    "        if \"분석장비<\" in line[l]:\n",
    "            test.append(line[l+1][32:-6])\n",
    "    test_T=pd.DataFrame(test).T\n",
    "    test_T.columns=['의뢰번호','의뢰일','담당자','접수일','처리일',\n",
    "'제목','의뢰목적','의뢰유형','제조사','Comments',\n",
    "'의뢰자','처리일2','STATUS','분석조건','분석의견',\n",
    "'분석장비','KeyWord']\n",
    "    return test_T"
   ]
  },
  {
   "cell_type": "markdown",
   "id": "aa4d4a5d-e6b1-400b-bd65-37a4d5c4e96d",
   "metadata": {},
   "source": [
    "## 특정설비분석 case (E, S)\n",
    "* E code: 보통\n",
    "* S code: 지급\n",
    "* 제조사 공란"
   ]
  },
  {
   "cell_type": "code",
   "execution_count": 3,
   "id": "8e0bc98d-cef6-48b8-9161-5388a49d9d24",
   "metadata": {
    "tags": []
   },
   "outputs": [],
   "source": [
    "def tas_e(line):\n",
    "    test=[]\n",
    "    for l in range(600,len(line)):\n",
    "        if \"담당자</\" in line[l]:\n",
    "            test.append(line[l+2][1:-1])\n",
    "        if \"의뢰번호</\" in line[l]:\n",
    "            test.append(line[l+1][20:30]) \n",
    "        if \"성명</\" in line[l]:\n",
    "            test.append(line[l+1][32:-6])             ## 사람 이름이 세글자가 아닌경우 고려\n",
    "        if \"제목</\" in line[l]:\n",
    "            test.append(line[l+1][33:-6])\n",
    "        if \"의뢰일</\" in line[l]:\n",
    "            test.append(line[l+1][20:-6])\n",
    "        if \"접수일</\" in line[l]:\n",
    "            test.append(line[l+1][20:-6])\n",
    "        if \"처리일</\" in line[l]:\n",
    "            test.append(line[l+1][32:-6])            ### 두번째 값을 취해야 함 (650, 970)\n",
    "        if \"STATUS</\" in line[l]:\n",
    "            test.append(line[l+1][32:-6])            ### 진행중인 경우 STATUS 안나옴!!!\n",
    "        if \"의뢰목적</\" in line[l]:\n",
    "            test.append(line[l+1][32:-7])\n",
    "        if \"의뢰유형</\" in line[l]:\n",
    "            test.append(line[l+8][9:-1])\n",
    "#    if \"제조사\" in line[l]:\n",
    "#        test.append(line[l+1][22:-1])\n",
    "        if \"Comments</\" in line[l]:\n",
    "            test.append(line[l+2][2:-1])\n",
    "        if \"KeyWord</\" in line[l]:\n",
    "            test.append(line[l+1][32:-6])\n",
    "        if \"분석조건</\" in line[l]:\n",
    "            test.append(line[l+1][32:-6])                     ## 두번째 값을 취해야 하나 600 행 이후로 필터링하면 문제없음\n",
    "        if \"분석의견</\" in line[l]:\n",
    "            test.append(line[l+1][33:-6])                     ## 세번째 값을 취해야 하나 600 행 이후로 필터링하면 문제없음\n",
    "        if \"분석장비</\" in line[l]:\n",
    "            test.append(line[l+1][32:-6])          ### 두번째 값을 취해야 함 (702, 984)\n",
    "#test.append(line[970][32:-6])                 ## 읽어들여야하는 행번호를 지정 시 중간에 라인 늘어나는 경우 오류 발생\n",
    "    test_E=pd.DataFrame(test).T\n",
    "    test_E.columns=['의뢰번호','의뢰일','담당자','처리일','접수일2','제목',\n",
    "'의뢰목적','의뢰유형','분석장비2','Comments','의뢰자','접수일',\n",
    "'STATUS','분석조건','분석의견','분석장비','KeyWord']\n",
    "## 최종 취합 후에 접수일2, 분석장비 2 삭제 필요\n",
    "    return test_E"
   ]
  },
  {
   "cell_type": "markdown",
   "id": "3c72ac10-63f2-4740-ba4e-2e3d3cdda415",
   "metadata": {},
   "source": [
    "## 환경유해물질분석 case (I, V)\n",
    "* 제조사, 키워드 공란 (14)"
   ]
  },
  {
   "cell_type": "code",
   "execution_count": 4,
   "id": "2c988a32-b035-478e-a3a0-c080104528e0",
   "metadata": {},
   "outputs": [],
   "source": [
    "def tas_i(line):\n",
    "    test=[]\n",
    "    for l in range(600,len(line)):\n",
    "        if \"담당자<\" in line[l]:\n",
    "            test.append(line[l+2][1:-1])\n",
    "        if \"의뢰번호<\" in line[l]:\n",
    "            test.append(line[l+1][20:30]) \n",
    "        if \"성명<\" in line[l]:\n",
    "            test.append(line[l+1][32:-6])             ## 사람 이름이 세글자가 아닌경우 고려\n",
    "        if \"제목<\" in line[l]:\n",
    "            test.append(line[l+1][32:-6])\n",
    "        if \"의뢰일<\" in line[l]:\n",
    "            test.append(line[l+1][20:-6])\n",
    "        if \"접수일<\" in line[l]:\n",
    "            test.append(line[l+1][20:-6])\n",
    "        if \"처리일<\" in line[l]:\n",
    "            test.append(line[l+1][32:-6])            ### 두번째 값을 취해야 함 (650, 970)\n",
    "        if \"STATUS<\" in line[l]:\n",
    "            test.append(line[l+1][32:-6])            ### 진행중인 경우 STATUS 안나옴!!!\n",
    "        if \"의뢰목적<\" in line[l]:\n",
    "            test.append(line[l+1][32:-6])\n",
    "        if \"의뢰유형<\" in line[l]:\n",
    "            test.append(line[l+8][9:-1])\n",
    "#    if \"제조사\" in line[l]:\n",
    "#        test.append(line[l+1][22:-1])\n",
    "        if \"요구사항<\" in line[l]:\n",
    "            test.append(line[l+1][32:-1])\n",
    "#    if \"KeyWord\" in line[l]:\n",
    "#        test.append(line[l+1][32:-6])\n",
    "        if \"분석조건<\" in line[l]:\n",
    "            test.append(line[l+2][2:-1])                     ## 두번째 값을 취해야 하나 600 행 이후로 필터링하면 문제없음\n",
    "        if \"분석의견<\" in line[l]:\n",
    "            test.append(line[l+2][2:-1])                     ## 세번째 값을 취해야 하나 600 행 이후로 필터링하면 문제없음\n",
    "        if \"분석장비<\" in line[l]:\n",
    "            test.append(line[l+1][32:-6])          ### 두번째 값을 취해야 함 (702, 984)\n",
    "    test_I=pd.DataFrame(test).T\n",
    "    test_I.columns=['의뢰번호','의뢰일','담당자','접수일','처리일2','제목',\n",
    "'의뢰목적','의뢰유형','Comments','의뢰자','처리일',\n",
    "'STATUS','분석조건','분석의견','분석장비']\n",
    "## 최종 취합 후에 접수일2, 분석장비 2 삭제 필요\n",
    "    return test_I"
   ]
  },
  {
   "cell_type": "markdown",
   "id": "104d0d07-b29a-46f3-bbc4-017c695a0374",
   "metadata": {},
   "source": [
    "## 환경유해물질분석 case (O)\n",
    "* 제조사, 키워드 공란 (14)\n",
    "* 의뢰유형 체크 확인 요망 (2010년 이전과 이후 양식 달라졌는지??)"
   ]
  },
  {
   "cell_type": "code",
   "execution_count": 5,
   "id": "9eda1875-142b-4761-b087-ba2347421db2",
   "metadata": {},
   "outputs": [],
   "source": [
    "def tas_o(line):\n",
    "    test=[]\n",
    "    for l in range(600,len(line)):\n",
    "        if \"담당자<\" in line[l]:\n",
    "            test.append(line[l+2][2:-1])\n",
    "        if \"의뢰번호<\" in line[l]:\n",
    "            test.append(line[l+1][20:30]) \n",
    "        if \"성명<\" in line[l]:\n",
    "            test.append(line[l+1][32:-6])             ## 사람 이름이 세글자가 아닌경우 고려\n",
    "        if \"제목<\" in line[l]:\n",
    "            test.append(line[l+1][32:-6])\n",
    "        if \"의뢰일<\" in line[l]:\n",
    "            test.append(line[l+1][20:-6])\n",
    "        if \"접수일<\" in line[l]:\n",
    "            test.append(line[l+1][20:-6])\n",
    "        if \"처리일<\" in line[l]:\n",
    "            test.append(line[l+1][32:-6])            ### 두번째 값을 취해야 함 (650, 970)\n",
    "        if \"STATUS<\" in line[l]:\n",
    "            test.append(line[l+1][32:-1])            ### 진행중인 경우 STATUS 안나옴!!!\n",
    "        if \"의뢰목적<\" in line[l]:\n",
    "            test.append(line[l+1][32:-6])\n",
    "        if \"의뢰유형<\" in line[l]:\n",
    "            test.append(line[l+2][32:-1])\n",
    "#    if \"제조사\" in line[l]:\n",
    "#        test.append(line[l+1][22:-1])\n",
    "        if \"요구사항<\" in line[l]:\n",
    "            test.append(line[l+1][32:-6])\n",
    "#    if \"KeyWord\" in line[l]:\n",
    "#        test.append(line[l+1][32:-6])\n",
    "        if \"분석조건<\" in line[l]:\n",
    "            test.append(line[l+1][32:-6])                     ## 두번째 값을 취해야 하나 600 행 이후로 필터링하면 문제없음\n",
    "        if \"분석의견<\" in line[l]:\n",
    "            test.append(line[l+1][33:-6])                     ## 세번째 값을 취해야 하나 600 행 이후로 필터링하면 문제없음\n",
    "        if \"분석장비<\" in line[l]:\n",
    "            test.append(line[l+1][32:-6])          ### 두번째 값을 취해야 함 (702, 984)\n",
    "    test_O=pd.DataFrame(test).T\n",
    "    test_O.columns=['의뢰번호','의뢰일','담당자','접수일','처리일2','제목',\n",
    "'의뢰목적','의뢰유형','의뢰유형2','Comments','의뢰자','처리일',\n",
    "'STATUS','분석조건','분석의견','분석장비']\n",
    "## 최종 취합 후에 접수일2, 분석장비 2 삭제 필요\n",
    "    return test_O"
   ]
  },
  {
   "cell_type": "markdown",
   "id": "22798a2f-b3f6-43e9-9012-231799d08692",
   "metadata": {},
   "source": [
    "## 외부분석의뢰(G&P) case (G)\n",
    "* 제조사 공란 (15)\n",
    "* 의뢰유형 체크 확인 요망 (샘플에는 빠져있었음)"
   ]
  },
  {
   "cell_type": "code",
   "execution_count": 6,
   "id": "954b70ff-7279-4463-a18d-33c40d9a3ddf",
   "metadata": {},
   "outputs": [],
   "source": [
    "def tas_g(line):\n",
    "    test=[]\n",
    "    for l in range(580,len(line)):\n",
    "        if \"담당자<\" in line[l]:\n",
    "            test.append(line[l+2][1:-1])\n",
    "        if \"의뢰번호<\" in line[l]:\n",
    "            test.append(line[l+1][20:30]) \n",
    "        if \"성명<\" in line[l]:\n",
    "            test.append(line[l+1][32:-6])             ## 사람 이름이 세글자가 아닌경우 고려\n",
    "        if \"제목<\" in line[l]:\n",
    "            test.append(line[l+1][32:-6])\n",
    "        if \"의뢰일<\" in line[l]:\n",
    "            test.append(line[l+1][20:-6])\n",
    "        if \"접수일<\" in line[l]:\n",
    "            test.append(line[l+1][20:-6])\n",
    "        if \"처리일<\" in line[l]:\n",
    "            test.append(line[l+1][32:-6])            ### 두번째 값을 취해야 함 (650, 970)\n",
    "        if \"STATUS<\" in line[l]:\n",
    "            test.append(line[l+1][32:-6])            ### 진행중인 경우 STATUS 안나옴!!!\n",
    "        if \"의뢰목적<\" in line[l]:\n",
    "            test.append(line[l+1][32:-6])\n",
    "        if \"의뢰유형<\" in line[l]:\n",
    "            test.append(line[l+2][32:-1])\n",
    "#    if \"제조사\" in line[l]:\n",
    "#        test.append(line[l+1][22:-1])\n",
    "        if \"Comments<\" in line[l]:\n",
    "            test.append(line[l+1][32:-6])\n",
    "        if \"KeyWord<\" in line[l]:\n",
    "            test.append(line[l+1][32:-6])\n",
    "        if \"분석조건<\" in line[l]:\n",
    "            test.append(line[l+1][32:-6])                     ## 두번째 값을 취해야 하나 600 행 이후로 필터링하면 문제없음\n",
    "        if \"분석의견<\" in line[l]:\n",
    "            test.append(line[l+1][33:-6])                     ## 세번째 값을 취해야 하나 600 행 이후로 필터링하면 문제없음\n",
    "        if \"분석장비<\" in line[l]:\n",
    "            test.append(line[l+1][32:-6])          ### 두번째 값을 취해야 함 (702, 984)\n",
    "    test_G=pd.DataFrame(test).T\n",
    "    test_G.columns=['의뢰번호','의뢰일','담당자','접수일','처리일2','제목',\n",
    "'의뢰목적','의뢰유형','분석장비2','Comments','의뢰자','처리일',\n",
    "'STATUS','분석조건','분석의견','분석장비','KeyWord']\n",
    "## 최종 취합 후에 접수일2, 분석장비 2 삭제 필요\n",
    "    return test_G"
   ]
  },
  {
   "cell_type": "markdown",
   "id": "d03bc054-d9a7-455d-80e5-a25f4980094d",
   "metadata": {},
   "source": [
    "## 클레임분석 case (C)\n",
    "* 제조사 공란 (15)\n",
    "* 의뢰유형은 일괄 클레임대응\n",
    "* 클레임 분석 선택 후 종합분석을 선택하면 제조사를 입력하는 경우가 발생"
   ]
  },
  {
   "cell_type": "code",
   "execution_count": 7,
   "id": "388cdfd4-0cd8-4383-9208-e5a1f690bddb",
   "metadata": {},
   "outputs": [],
   "source": [
    "def tas_c(line):\n",
    "    test=[]\n",
    "    for l in range(580,len(line)):\n",
    "        if \"담당자<\" in line[l]:\n",
    "            test.append(line[l+2][1:-1])\n",
    "        if \"의뢰번호<\" in line[l]:\n",
    "            test.append(line[l+1][20:30]) \n",
    "        if \"성명<\" in line[l]:\n",
    "            test.append(line[l+1][32:-6])             ## 사람 이름이 세글자가 아닌경우 고려\n",
    "        if \"제목<\" in line[l]:\n",
    "            test.append(line[l+1][32:-6])\n",
    "        if \"의뢰일<\" in line[l]:\n",
    "            test.append(line[l+1][20:-6])\n",
    "        if \"접수일<\" in line[l]:\n",
    "            test.append(line[l+1][20:-6])\n",
    "        if \"처리일<\" in line[l]:\n",
    "            test.append(line[l+1][32:-6])            ### 두번째 값을 취해야 함 (650, 970)\n",
    "        if \"STATUS<\" in line[l]:\n",
    "            test.append(line[l+1][32:-6])            ### 진행중인 경우 STATUS 안나옴!!!\n",
    "        if \"의뢰목적<\" in line[l]:\n",
    "            test.append(line[l+1][32:-6])\n",
    "#    if \"의뢰유형\" in line[l]:\n",
    "#        test.append(line[l+8][9:-1])\n",
    "#    if \"제조사\" in line[l]:\n",
    "#        test.append(line[l+1][22:-1])\n",
    "        if \"이력<\" in line[l]:                           ### 클레임분석요청임에도 종합분석/클레임분석을 구분하여 의뢰하게 되며,\n",
    "            for k in range(580,len(line)):              ### 종합분석일 때는 제조사와 코멘트가 별도로 들어감\n",
    "                if \"시험구분<\" in line[k]:                ### 클레임분석일 때는 클레임날짜, 장소, 내용, 외부고객 등의 정보가 추가됨 (table 양식으로 구성)\n",
    "                    if \"CHECKED\" in line[k+2]:\n",
    "                        comments=\"\"\n",
    "                        for j in range(20):\n",
    "                            if \"</TD>\" in line[l+40+j]:\n",
    "                                break\n",
    "                            else:\n",
    "                                if j==0:\n",
    "                                    comments=(line[l+40][22:-1])                    \n",
    "                                else:\n",
    "                                    comments=comments+\"<br>\"+line[l+40+j][:-1]\n",
    "                        test.append(comments)\n",
    "                        test.append(line[l+35][22:-1])                            ## 제조사 추가\n",
    "                    else:\n",
    "                        test.append(\"클레임 날짜: \"+line[l+8][22:-1]+\", 클레임 장소: \"+line[l+13][22:-1]+\", 클레임 내용: \"+line[l+18][22:-1]+\", 외부고객: \"+line[l+23][22:-1])\n",
    "        if \"KeyWord<\" in line[l]:\n",
    "            test.append(line[l+1][32:-6])\n",
    "        if \"분석조건<\" in line[l]:\n",
    "            test.append(line[l+1][32:-6])                     ## 두번째 값을 취해야 하나 600 행 이후로 필터링하면 문제없음\n",
    "        if \"분석의견<\" in line[l]:\n",
    "            test.append(line[l+1][33:-6])                     ## 세번째 값을 취해야 하나 600 행 이후로 필터링하면 문제없음\n",
    "        if \"분석장비<\" in line[l]:\n",
    "            test.append(line[l+1][32:-6])          ### 두번째 값을 취해야 함 (702, 984)\n",
    "    test.append(\"클레임 대응\")    \n",
    "    test_C=pd.DataFrame(test).T\n",
    "    for k in range(580,len(line)):\n",
    "        if \"시험구분\" in line[k]:                            \n",
    "            if \"CHECKED\" in line[k+2]:                      ### 시험구분에서 종합분석일 경우 제조사 항목 추가\n",
    "                test_C.columns=['의뢰번호','의뢰일','담당자','접수일','처리일2','제목',\n",
    "'의뢰목적','Comments','제조사','의뢰자','처리일',\n",
    "'STATUS','분석조건','분석의견','분석장비','KeyWord','의뢰유형']\n",
    "            else:                                           ### 시험구분에서 클레임분석일 경우 제조사 항목 없음\n",
    "                test_C.columns=['의뢰번호','의뢰일','담당자','접수일','처리일2','제목',\n",
    "'의뢰목적','Comments','의뢰자','처리일',\n",
    "'STATUS','분석조건','분석의견','분석장비','KeyWord','의뢰유형']\n",
    "## 최종 취합 후에 접수일2, 분석장비 2 삭제 필요\n",
    "    return test_C\n"
   ]
  },
  {
   "cell_type": "markdown",
   "id": "8a64f725-7bdb-4061-92bf-1a06e66f636e",
   "metadata": {},
   "source": [
    "## 환경유해물질분석 case (U)"
   ]
  },
  {
   "cell_type": "code",
   "execution_count": 8,
   "id": "f66011b2-a55a-4250-a7c8-4865f8738281",
   "metadata": {},
   "outputs": [],
   "source": [
    "def tas_u(line):\n",
    "    test=[]\n",
    "    for l in range(600,len(line)):\n",
    "        if \"담당자</\" in line[l]:\n",
    "            test.append(line[l+2][1:-1])\n",
    "        if \"의뢰번호</\" in line[l]:\n",
    "            test.append(line[l+1][20:30]) \n",
    "        if \"성명</\" in line[l]:\n",
    "            test.append(line[l+1][32:-6])             ## 사람 이름이 세글자가 아닌경우 고려\n",
    "        if \"제목</\" in line[l]:\n",
    "            test.append(line[l+1][32:-6])\n",
    "        if \"의뢰일</\" in line[l]:\n",
    "            test.append(line[l+1][20:-6])\n",
    "        if \"접수일</\" in line[l]:\n",
    "            test.append(line[l+1][20:-6])\n",
    "        if \"처리일</\" in line[l]:\n",
    "            test.append(line[l+1][32:-6])            ### 두번째 값을 취해야 함 (650, 970)\n",
    "        if \"STATUS</\" in line[l]:\n",
    "            test.append(line[l+1][32:-6])            ### 진행중인 경우 STATUS 안나옴!!!\n",
    "        if \"의뢰목적</\" in line[l]:\n",
    "            test.append(line[l+1][32:-6])\n",
    "        if \"의뢰유형</\" in line[l]:\n",
    "            test.append(line[l+8][9:-1])\n",
    "        if \"제조사\" in line[l]:\n",
    "            test.append(line[l+13][22:-6])\n",
    "        if \"분석 요청<\" in line[l]:\n",
    "            test.append(\"시료명: \"+line[l+25][22:-6]+\", Lot No: \"+line[l+26][22:-6]+\", 재질: \"+line[l+27][22:-6]+\", 제품명: \"+line[l+28][22:-6]+\", 시험항목: \"+line[l+29][22:-6]+\", 형태: \"+line[l+30][22:-6]+\", 원료명: \"+line[l+31][22:-6]+\", 색상: \"+line[l+33][22:-6])\n",
    "        if \"KeyWord</\" in line[l]:\n",
    "            test.append(line[l+1][32:-6])\n",
    "        if \"분석조건</\" in line[l]:\n",
    "            test.append(line[l+2][2:-1])                     ## 두번째 값을 취해야 하나 600 행 이후로 필터링하면 문제없음\n",
    "        if \"분석의견</\" in line[l]:\n",
    "            test.append(line[l+2][2:-1])                     ## 세번째 값을 취해야 하나 600 행 이후로 필터링하면 문제없음\n",
    "        if \"분석장비</\" in line[l]:\n",
    "            test.append(line[l+1][32:-6])          ### 두번째 값을 취해야 함 (702, 984)\n",
    "#test.append(line[970][32:-6])                 ## 읽어들여야하는 행번호를 지정 시 중간에 라인 늘어나는 경우 오류 발생\n",
    "    test_U=pd.DataFrame(test).T\n",
    "    test_U.columns=['의뢰번호','의뢰일','담당자','접수일','처리일2','제목',\n",
    "'의뢰목적','의뢰유형','Comments','제조사', '의뢰자','처리일',\n",
    "'STATUS','분석조건','분석의견','분석장비','KeyWord']\n",
    "## 최종 취합 후에 접수일2, 분석장비 2 삭제 필요\n",
    "    return test_U"
   ]
  },
  {
   "cell_type": "code",
   "execution_count": null,
   "id": "3aaa04d2-9058-4c18-bdae-bd621ace8df0",
   "metadata": {},
   "outputs": [],
   "source": []
  },
  {
   "cell_type": "markdown",
   "id": "7a3f1fdb-7c0b-402b-a325-8b7267d84d75",
   "metadata": {},
   "source": [
    "## 본 구문"
   ]
  },
  {
   "cell_type": "code",
   "execution_count": 16,
   "id": "97134a8e-a5fd-4d1d-a143-2435c594429d",
   "metadata": {
    "tags": []
   },
   "outputs": [
    {
     "name": "stdout",
     "output_type": "stream",
     "text": [
      "소요시간: 0분 0.29초\n",
      "전체 txt file 수: 41개\n",
      "누락된 file 수: 0개\n",
      "파일명과 의뢰번호가 다른 txt file 수: 0개\n",
      "\n",
      "ValueError File 수: 0개\n",
      "(ValueError 대상 File은 xlsx에 등록되지 않음)\n",
      "[]\n"
     ]
    }
   ],
   "source": [
    "# 시작시간\n",
    "start = time.time()\n",
    "\n",
    "# define 된 함수에서 각각 txt를 읽어낸 후 Dataframe 생성하게 되면,\n",
    "# 이를 기존 DataFrame에 concat으로 붙이기 위해서 아무것도 없는 빈 행을 가진 DataFrame을 하나 만들어둠\n",
    "# 맨 마지막에 이 행은 삭제해야 함\n",
    "\n",
    "test2=['0'] \n",
    "result2=pd.DataFrame(test2)\n",
    "result2.columns=['의뢰번호']\n",
    "\n",
    "# 폴더 내 전체 txt 파일을 읽어서 읽어오기 \n",
    "wrong_list=[]                                    ## File명과 실제 의뢰번호가 다른 경우에 의뢰번호 저장을 위함\n",
    "ve_list=[]                                       ## ValueError 발생하는 의뢰번호 저장을 위함\n",
    "count_check=0                                    ## 아래 for l을 580~650 행으로 한정하면서 오류가 발생할 가능성을 예측하기 위함\n",
    "for lis in list_1:\n",
    "    f=open(path1+\"/\"+lis,'r', encoding='CP949')  ## 여러 파일 불러오기\n",
    "    line=f.readlines()    \n",
    "    for l in range(580,650):                     ## for 문을 모든 라인을 다 돌리면 시간이 오래걸리므로, 범위를 좁혔음. 단, 에러 발생 여부를 확인하기 위해서 count_check 를 통해 누락된 샘플이 있는지 확인\n",
    "        try:\n",
    "            if \"의뢰번호<\" in line[l]:                ## '의뢰번호' 로 하는 경우 comment 내용 중에 '의뢰번호'가 들어갈 시 에러 발생. 이를 피하기 위해서 바로 다음 태그인 <를 추가\n",
    "                count_check+=1\n",
    "                req_code=line[l+1][24]\n",
    "                wrong_list.append(lis) if lis!=(line[l+1][20:30]+'.txt') else 3         ## 잘못입력한 것 추리는 구문(txt 파일명과 실제 분석의뢰번호가 다른 케이스)  ## else 3 은 안넣으면 syntaxError 발생해서 그냥 넣은 것 (의미 x)\n",
    "                if req_code in 'TP':            ## req_code=='T' or req_code=='P' 이거보다 간결함\n",
    "                    result1=tas_t(line)    \n",
    "                elif req_code in'ES':\n",
    "                    result1=tas_e(line)    \n",
    "                elif req_code=='I':\n",
    "                    result1=tas_i(line)    \n",
    "                elif req_code=='V':\n",
    "                    result1=tas_i(line)    \n",
    "                elif req_code=='O':\n",
    "                    result1=tas_o(line)    \n",
    "                elif req_code=='G':\n",
    "                    result1=tas_g(line)    \n",
    "                elif req_code=='C':\n",
    "                    result1=tas_c(line)  \n",
    "                elif req_code=='U':\n",
    "                    result1=tas_u(line)  \n",
    "        except ValueError:                            ## valueError 가 발생하는 것만 따로 빼내는 문구 (comment에 특정 문구가 있거나, 분석결과가 업데이트 안되어서 열의 수가 안맞는 경우에 발생하더라)\n",
    "            ve_list.append(line[l+1][20:30])\n",
    "\n",
    "    result2=pd.concat([result1,result2])\n",
    "    f.close()                                          ##  txt file 닫아주기\n",
    "    \n",
    "# DataFrame 정리\n",
    "result2.drop(['접수일2','처리일2','분석장비2','의뢰유형2'], axis=1, inplace=True)\n",
    "if '제조사' not in result2.columns:                     ##(E code만 생성되는 경우 제조사가 없음)\n",
    "    result2=result2[['의뢰번호', '의뢰자', '제목', '의뢰일', '접수일', '처리일', 'STATUS', '담당자', '의뢰목적', '의뢰유형',\n",
    "       'Comments', 'KeyWord', '분석조건', '분석의견', '분석장비']]             ## 요청대로 순서 및 제목명 바꾸기\n",
    "else:\n",
    "    result2=result2[['의뢰번호', '의뢰자', '제목', '의뢰일', '접수일', '처리일', 'STATUS', '담당자', '의뢰목적', '의뢰유형', '제조사',\n",
    "       'Comments', 'KeyWord', '분석조건', '분석의견', '분석장비']]             ## 요청대로 순서 및 제목명 바꾸기    \n",
    "result2.rename(columns={'의뢰자':'의뢰인','제목':'의뢰제목','Comments':'Comment','KeyWord':'Key word'}, inplace=True)\n",
    "result2.reset_index(drop=True, inplace=True)          ## 인덱스 리셋\n",
    "result2.drop(len(result2)-1, inplace=True)            ## 마지막행 삭제\n",
    "\n",
    "# 종료시간\n",
    "end = time.time()\n",
    "\n",
    "# 설명\n",
    "print(\"소요시간: %d분 %0.2f초\" %((end - start)//60, (end - start)%60))\n",
    "print(\"전체 txt file 수: %d개\" %len(list_1))\n",
    "print(\"누락된 file 수: %d개\" %(count_check-len(list_1)))  ## 누락 샘플 확인용, 0이 아니면 580~650 행을 벗어나는 구간에 의뢰번호가 있는 txt 파일이 있다는 의미\n",
    "print(\"파일명과 의뢰번호가 다른 txt file 수: %d개\" %len(wrong_list))  ## wrong_list 갯수\n",
    "print(\"\")\n",
    "\n",
    "\n",
    "## ValueError 부결 체크\n",
    "print(\"ValueError File 수: %d개\" %len(ve_list))\n",
    "print(\"(ValueError 대상 File은 xlsx에 등록되지 않음)\")\n",
    "print(ve_list)\n",
    "for ve in ve_list:\n",
    "    f=open(path1+\"/\"+ve+\".txt\",'r', encoding='CP949')  ## 여러 파일 불러오기\n",
    "    line=f.readlines()    \n",
    "    for l in range(580,len(line)):             \n",
    "        if \"CHECKED >부결\" in line[l]:\n",
    "            print(ve, \"부결\")\n",
    "    f.close()"
   ]
  },
  {
   "cell_type": "markdown",
   "id": "1e155fbc-4d37-4df4-95ba-064771fd6899",
   "metadata": {
    "tags": []
   },
   "source": [
    "## 엑셀파일 생성\n",
    "* 파일리스트: old_tas.xlsx\n",
    "* txt파일 제목과 본문의 의뢰번호가 서로다른 파일리스트: old_tas_wrong_list.xlsx"
   ]
  },
  {
   "cell_type": "code",
   "execution_count": 17,
   "id": "04780918-c46c-4078-9bcc-efb18084381f",
   "metadata": {},
   "outputs": [],
   "source": [
    "# save_name=input('파일명을 입력하세요: ')\n",
    "#save_name=\"old_tas\"\n",
    "#writer = pd.ExcelWriter(save_name+'.xlsx', engine='xlsxwriter')\n",
    "\n",
    "#test_T.to_excel(writer, sheet_name= 'T')\n",
    "result2.to_excel(excel_writer='old_tas.xlsx', sheet_name='sheet1')\n",
    "wl=pd.DataFrame(wrong_list)                                     ## list 를 DataFrame으로 변환\n",
    "wl.to_excel(excel_writer='old_tas_wrong_list.xlsx', index=False, header=False)\n"
   ]
  },
  {
   "cell_type": "code",
   "execution_count": 13,
   "id": "9e6d9d16-4e21-4392-8bac-44cffda1357b",
   "metadata": {},
   "outputs": [],
   "source": [
    "# 에러 발생 시 txt 파일 닫는 구문\n",
    "f.close()"
   ]
  },
  {
   "cell_type": "code",
   "execution_count": null,
   "id": "1b697492-b09f-4a66-ade8-532448c38a48",
   "metadata": {
    "tags": []
   },
   "outputs": [],
   "source": [
    "#result2.head()"
   ]
  },
  {
   "cell_type": "markdown",
   "id": "bc1e2d23-d7d8-4bf7-91a6-ed45b26490d7",
   "metadata": {},
   "source": [
    "## txt 파일 제목을 의뢰번호로 변경하여 새 폴더에 저장\n",
    "    - 폴더 A의 모든 파일을 열어서 폴더 B에 의뢰번호 이름으로 동일한 txt 파일을 생성\n",
    "    - 기존폴더: path1, 넷째 줄 ('A'로 표기)\n",
    "    - 신규폴더: new_folder, 여섯째 줄 ('B'로 표기)\n",
    "    ※ 폴더 내에 기존에 동일 파일이 있는 경우 덮어쓰기 되므로 주의"
   ]
  },
  {
   "cell_type": "code",
   "execution_count": 15,
   "id": "ae4e6f8f-dc7a-49d9-a0ff-b8f27f7fa27c",
   "metadata": {},
   "outputs": [
    {
     "name": "stdout",
     "output_type": "stream",
     "text": [
      "소요시간: 4분 20.85초\n",
      "전체 txt file 수: 3876개\n"
     ]
    }
   ],
   "source": [
    "## ls_env 가상환경에서 실행\n",
    "\n",
    "import os\n",
    "import time                              ## 작업 시 소요시간을 체크하기 위함 (본 구문에 start, end 로 계산)\n",
    "import pandas as pd\n",
    "\n",
    "path1= \"./TAS\"                           ## 파일들이 담겨있는 folder 주소\n",
    "list_txt = os.listdir(path1)               ## 해당 폴더의 파일목록을 list_1에 입력\n",
    "\n",
    "new_folder=\"B\"                    ## 이동할 폴더 명 지정\n",
    "try:\n",
    "    os.mkdir(new_folder)               ## 폴더가 있는 경우에는 에러발생하므로 pass 구문 추가\n",
    "except:\n",
    "    pass\n",
    "\n",
    "# 시작시간\n",
    "start = time.time()\n",
    "\n",
    "for lis in list_txt:\n",
    "    f1=open(path1+\"/\"+lis,'r', encoding='CP949') ## 의뢰번호 추출용 / encoding 을 하지 않으면 한글 깨짐\n",
    "    f2=open(path1+\"/\"+lis,'r')                   ## txt 본문 복사용, encoding 을 붙이면 read 명령이 먹지 않음\n",
    "    \n",
    "    ## 의뢰번호 추출\n",
    "    line=f1.readlines()\n",
    "    \n",
    "    for l in range(580,len(line)):\n",
    "        if \"의뢰번호<\" in line[l]:\n",
    "            req_no=line[l+1][20:30]          \n",
    "    \n",
    "    ## 새로 생성한 폴더에 txt파일 생성\n",
    "    g=open('./'+new_folder+'/'+req_no+'.txt','w')  \n",
    "    data=f2.read()\n",
    "    g.write(data)\n",
    "    \n",
    "    f1.close()\n",
    "    f2.close()\n",
    "    g.close()\n",
    "    \n",
    "\n",
    "# 종료시간\n",
    "end = time.time()\n",
    "\n",
    "# 설명\n",
    "print(\"소요시간: %d분 %0.2f초\" %((end - start)//60, (end - start)%60))\n",
    "print(\"전체 txt file 수: %d개\" %len(list_txt))"
   ]
  },
  {
   "cell_type": "code",
   "execution_count": null,
   "id": "819f87ae-14a2-4613-89c6-d09ebc17f69a",
   "metadata": {},
   "outputs": [],
   "source": []
  },
  {
   "cell_type": "markdown",
   "id": "bcda4fed-2221-4377-88ea-401cd286c57f",
   "metadata": {
    "tags": []
   },
   "source": [
    "## 참고"
   ]
  },
  {
   "cell_type": "code",
   "execution_count": 24,
   "id": "29198b95-8f1c-4de2-a457-1d141aebe469",
   "metadata": {},
   "outputs": [
    {
     "name": "stdout",
     "output_type": "stream",
     "text": [
      "2007U02001 U\n"
     ]
    }
   ],
   "source": [
    "# txt 파일 하나 읽어서 의뢰번호와 코드(알파벳) 따오기 (년도+코드+월+일련번호)\n",
    "#f=open(\"an030d[e].txt\",'r', encoding='CP949')\n",
    "f=open(\"./TAS/2007U02001.txt\",'r', encoding='CP949')  ## 개별 파일 불러오기 \n",
    "line=f.readlines()\n",
    "\n",
    "for l in range(580,len(line)):\n",
    "    if \"의뢰번호<\" in line[l]:\n",
    "        print(line[l+1][20:30], line[l+1][24]) \n",
    "    if \"CHECKED >부결\" in line[l]:\n",
    "        print(\"부결\")"
   ]
  },
  {
   "cell_type": "code",
   "execution_count": null,
   "id": "30c8e327-56f1-4765-96d9-1bd480aab7c7",
   "metadata": {
    "tags": []
   },
   "outputs": [],
   "source": [
    "# 폴더 내 전체 txt 파일을 읽어서 의뢰번호만 추출 (모든 txt의 동일한 위치에 의뢰번호가 있는지 확인용 - 실제 실행 시는 필요 x) \n",
    "count_a=0\n",
    "count_line=[]\n",
    "for lis in list_1:\n",
    "    f=open(path1+\"/\"+lis,'r', encoding='CP949')  ## 여러 파일 불러오기\n",
    "    line=f.readlines()\n",
    "    for l in range(580,650):\n",
    "        if \"의뢰번호<\" in line[l]:\n",
    "            count_a+=1\n",
    "            count_line.append(line[l+1][24]+str(l+1))  ## 코드 별 의뢰번호가 나오는 행번호\n",
    "#            print(line[l+1][20:30], l+1) \n",
    "print (count_a-len(list_1))\n",
    "print (set(count_line))"
   ]
  },
  {
   "cell_type": "code",
   "execution_count": null,
   "id": "4ab1d9eb-9ca3-417b-9ab6-6f6cce1c68dd",
   "metadata": {
    "tags": []
   },
   "outputs": [],
   "source": [
    "## 위치를 확인하기 위한 작업 (실제 코드에는 사용되지 않음)\n",
    "for l in range(len(line)):\n",
    "    if \"담당자\" in line[l]:\n",
    "        print (\"담당자\", l+2, line[l+2][1:-1])\n",
    "    if \"의뢰번호\" in line[l]:\n",
    "        print (\"의뢰번호\", l+1, line[l+1][20:30]) \n",
    "    if \"성명\" in line[l]:\n",
    "        print (\"성명\", l+1, line[l+1][32:-6])             ## 사람 이름이 세글자가 아닌경우 고려\n",
    "    if \"제목<\" in line[l]:\n",
    "        print (\"제목\", l+1, line[l+1][32:-6])\n",
    "    if \"의뢰일\" in line[l]:\n",
    "        print (\"의뢰일\", l+1, line[l+1][20:-6])\n",
    "    if \"접수일\" in line[l]:\n",
    "        print (\"접수일\", l+1, line[l+1][20:-6])\n",
    "    if \"처리일\" in line[l]:\n",
    "        print (\"처리일\", l+1, line[l+1][32:-6])\n",
    "    if \"STATUS\" in line[l]:\n",
    "        print (\"STATUS\", l+1, line[l+1][32:-6])            ### 진행중인 경우 STATUS 안나옴!!!\n",
    "    if \"의뢰목적\" in line[l]:\n",
    "        print (\"의뢰목적\", l+1, line[l+1][32:-6])\n",
    "    if \"의뢰유형\" in line[l]:\n",
    "        print (\"의뢰유형\", l+8, line[l+8][9:-1])\n",
    "    if \"제조사\" in line[l]:\n",
    "        print (\"제조사\", l+13, line[l+13][22:-6])\n",
    "#    if \"Comments\" in line[l]:\n",
    "#        print (\"Comments\", l+1, line[l+1][32:-1])\n",
    "    if \"분석 요청<\" in line[l]:\n",
    "        print (\"Comments\", l+25, \"시료명: \",line[l+25][22:-6], \"Lot No: \",line[l+26][22:-6], \"재질: \",line[l+27][22:-6], \"제품명: \",line[l+28][22:-6], \"시험항목: \",line[l+29][22:-6], \"형태: \",line[l+30][22:-6], \"원료명: \",line[l+31][22:-6], \"색상: \",line[l+33][22:-6])\n",
    "    if \"KeyWord\" in line[l]:\n",
    "        print (\"KeyWord\", l+1, line[l+1][32:-6])\n",
    "    if \"분석조건\" in line[l]:\n",
    "        print (\"분석조건\", l+2, line[l+2][2:-1])                     ## 두번째 값을 취해야 함.\n",
    "    if \"분석의견\" in line[l]:\n",
    "        print (\"분석의견\", l+2, line[l+2][2:-1])                               ## 세번째 값을 취해야 함.\n",
    "    if \"분석장비\" in line[l]:\n",
    "        print (\"분석장비\", l+1, line[l+1][32:-6])"
   ]
  },
  {
   "cell_type": "code",
   "execution_count": 73,
   "id": "20164ad8-3325-4f14-904f-44788f740e4d",
   "metadata": {},
   "outputs": [
    {
     "data": {
      "text/plain": [
       "Index(['의뢰번호', '의뢰일', '담당자', '접수일', '처리일', '제목', '의뢰목적', '의뢰유형', '제조사',\n",
       "       'Comments', '의뢰자', 'STATUS', '분석조건', '분석의견', '분석장비', 'KeyWord'],\n",
       "      dtype='object')"
      ]
     },
     "execution_count": 73,
     "metadata": {},
     "output_type": "execute_result"
    }
   ],
   "source": [
    "result2.columns"
   ]
  },
  {
   "cell_type": "code",
   "execution_count": null,
   "id": "60761e4b-7cc4-4199-825a-de9d4c9d0ada",
   "metadata": {
    "tags": []
   },
   "outputs": [],
   "source": [
    "## 해당 내용을 리스트로 저장하기 위한 작업 (실제 코드에는 사용되지 않음)\n",
    "test=[]\n",
    "for l in range(580,len(line)):\n",
    "    if \"담당자\" in line[l]:\n",
    "        test.append(line[l+2][1:-1])\n",
    "    if \"의뢰번호\" in line[l]:\n",
    "        test.append(line[l+1][20:30]) \n",
    "    if \"성명\" in line[l]:\n",
    "        test.append(line[l+1][32:-6])             ## 사람 이름이 세글자가 아닌경우 고려\n",
    "    if \"제목\" in line[l]:\n",
    "        test.append(line[l+1][32:-6])\n",
    "    if \"의뢰일\" in line[l]:\n",
    "        test.append(line[l+1][20:-6])\n",
    "    if \"접수일\" in line[l]:\n",
    "        test.append(line[l+1][20:-6])\n",
    "    if \"처리일\" in line[l]:\n",
    "        test.append(line[l+1][32:-6])            ### 두번째 값을 취해야 함 (650, 970)\n",
    "    if \"STATUS\" in line[l]:\n",
    "        test.append(line[l+1][32:-6])            ### 진행중인 경우 STATUS 안나옴!!!\n",
    "    if \"의뢰목적\" in line[l]:\n",
    "        test.append(line[l+1][32:-6])\n",
    "#    if \"의뢰유형\" in line[l]:\n",
    "#        test.append(line[l+8][9:-1])\n",
    "#    if \"제조사\" in line[l]:\n",
    "#        test.append(line[l+1][22:-1])\n",
    "    if \"이력<\" in line[l]:                           ### 클레임분석요청임에도 종합분석/클레임분석을 구분하여 의뢰하게 되며,\n",
    "        for k in range(580,len(line)):              ### 종합분석일 때는 제조사와 코멘트가 별도로 들어감\n",
    "            if \"시험구분\" in line[k]:                ### 클레임분석일 때는 클레임날짜, 장소, 내용, 외부고객 등의 정보가 추가됨 (table 양식으로 구성)\n",
    "                if \"CHECKED\" in line[k+2]:\n",
    "                    comments=\"\"\n",
    "                    for j in range(20):\n",
    "                        if \"</TD>\" in line[l+40+j]:\n",
    "                            break\n",
    "                        else:\n",
    "                            if j==0:\n",
    "                                comments=(line[l+40][22:-1])                    \n",
    "                            else:\n",
    "                                comments=comments+line[l+40+j]\n",
    "                    test.append(comments)\n",
    "                    test.append(line[l+35][22:-1])\n",
    "                else:\n",
    "                    test.append(\"클레임 날짜: \"+line[l+8][22:-1]+\", 클레임 장소: \"+line[l+13][22:-1]+\", 클레임 내용: \"+line[l+18][22:-1]+\", 외부고객: \"+line[l+23][22:-1])\n",
    "    if \"KeyWord\" in line[l]:\n",
    "        test.append(line[l+1][32:-6])\n",
    "    if \"분석조건\" in line[l]:\n",
    "        test.append(line[l+1][32:-6])                     ## 두번째 값을 취해야 하나 600 행 이후로 필터링하면 문제없음\n",
    "    if \"분석의견\" in line[l]:\n",
    "        test.append(line[l+1][33:-6])                     ## 세번째 값을 취해야 하나 600 행 이후로 필터링하면 문제없음\n",
    "    if \"분석장비\" in line[l]:\n",
    "        test.append(line[l+1][32:-6])          ### 두번째 값을 취해야 함 (702, 984)\n",
    "test.append(\"클레임 대응\")    \n",
    "#test_C=pd.DataFrame(test).T\n",
    "#for k in range(580,len(line)):\n",
    "#    if \"시험구분\" in line[k]:                            \n",
    "#        if \"CHECKED\" in line[k+2]:                      ### 시험구분에서 종합분석일 경우 제조사 항목 추가\n",
    "#            test_C.columns=['의뢰번호','의뢰일','담당자','접수일','처리일2','제목','의뢰목적','Comments','제조사','의뢰자','처리일','STATUS','분석조건','분석의견','분석장비','KeyWord','의뢰유형']\n",
    "#        else:                                           ### 시험구분에서 클레임분석일 경우 제조사 항목 없음\n",
    "#            test_C.columns=['의뢰번호','의뢰일','담당자','접수일','처리일2','제목','의뢰목적','Comments','의뢰자','처리일','STATUS','분석조건','분석의견','분석장비','KeyWord','의뢰유형']\n",
    "test"
   ]
  },
  {
   "cell_type": "code",
   "execution_count": null,
   "id": "d4b674bb-6361-480d-a148-7b0675950468",
   "metadata": {
    "tags": []
   },
   "outputs": [],
   "source": [
    "test_G=pd.DataFrame(test).T\n",
    "test_G.columns=['의뢰번호','의뢰일','담당자','접수일','처리일2','제목',\n",
    "'의뢰목적','의뢰유형','분석장비2','Comments','의뢰자','처리일',\n",
    "'STATUS','분석조건','분석의견','분석장비','KeyWord']\n",
    "test_G\n",
    "## 최종 취합 후에 접수일2, 분석장비 2 삭제 필요"
   ]
  },
  {
   "cell_type": "code",
   "execution_count": null,
   "id": "01bcc065-9504-41a3-a57f-e4c2f25afc5e",
   "metadata": {
    "tags": []
   },
   "outputs": [],
   "source": [
    "# 파일명과 파일 정보의 의뢰번호가 다른 것 리스트 추출\n",
    "for wl in wrong_list:\n",
    "    print(wl)"
   ]
  },
  {
   "cell_type": "code",
   "execution_count": null,
   "id": "135ec393-acd1-41bc-9bab-50519c326546",
   "metadata": {},
   "outputs": [],
   "source": []
  }
 ],
 "metadata": {
  "kernelspec": {
   "display_name": "Python [conda env:ls_env]",
   "language": "python",
   "name": "conda-env-ls_env-py"
  },
  "language_info": {
   "codemirror_mode": {
    "name": "ipython",
    "version": 3
   },
   "file_extension": ".py",
   "mimetype": "text/x-python",
   "name": "python",
   "nbconvert_exporter": "python",
   "pygments_lexer": "ipython3",
   "version": "3.10.8"
  }
 },
 "nbformat": 4,
 "nbformat_minor": 5
}
